{
 "cells": [
  {
   "cell_type": "code",
   "execution_count": 7,
   "id": "637eaf9c",
   "metadata": {},
   "outputs": [],
   "source": [
    "from bs4 import BeautifulSoup\n",
    "import re\n",
    "import requests\n",
    "import pandas as pd "
   ]
  },
  {
   "cell_type": "code",
   "execution_count": 8,
   "id": "e3679d57",
   "metadata": {},
   "outputs": [],
   "source": [
    "#Ingresar a la página principal de la NFL\n",
    "page = requests.get(\"https://www.nfl.com/stats/player-stats/\")\n",
    "#Pasarlo a formato soup\n",
    "soup = BeautifulSoup(page.content, 'html.parser')"
   ]
  },
  {
   "cell_type": "code",
   "execution_count": 9,
   "id": "76f6e202",
   "metadata": {},
   "outputs": [],
   "source": [
    "#Obtener los enlaces a cada pestaña del navbar\n",
    "pestanhas=[x.a['href'] for x in soup.find(\"ul\",{\"class\":\"d3-o-tabs d3-o-tabs__nowrap\"}).find_all('li')]\n",
    "linksJugadores=[]\n",
    "#Iterar para sacar los datos\n",
    "for pestanha in pestanhas:\n",
    "    statPage=requests.get(\"https://www.nfl.com\"+pestanha)\n",
    "    soup2 = BeautifulSoup(statPage.content, 'html.parser')\n",
    "    table=soup2.find('table')\n",
    "    #Obtener cada fila de la tabla de jugadores\n",
    "    jugadores=table.find_all('tr')\n",
    "    for jugador in jugadores:\n",
    "        if(jugador.find('div',{'class':'d3-o-media-object__body'}) is None):continue\n",
    "        else:\n",
    "            #Agregar el link al perfil del jugador\n",
    "            linksJugadores.append(\"https://www.nfl.com\"+jugador.find('div',{'class':'d3-o-media-object__body'}).a['href'])"
   ]
  },
  {
   "cell_type": "code",
   "execution_count": 10,
   "id": "12c27500",
   "metadata": {},
   "outputs": [],
   "source": [
    "#Remover duplicados\n",
    "linksJugadores=(list(set(linksJugadores)))"
   ]
  },
  {
   "cell_type": "code",
   "execution_count": null,
   "id": "ef35685b",
   "metadata": {},
   "outputs": [],
   "source": [
    "#sacar en formato soup los datos del jugador\n",
    "datosHTML=[]\n",
    "for linkJugador in linksJugadores:\n",
    "    pageL=requests.get(linkJugador)\n",
    "    datosHTML.append(BeautifulSoup(pageL.content, 'html.parser'))"
   ]
  },
  {
   "cell_type": "code",
   "execution_count": null,
   "id": "eeddf954",
   "metadata": {},
   "outputs": [],
   "source": [
    "datosJugadores=[]\n",
    "for html in datosHTML:\n",
    "    #Validar que el jugador este activo\n",
    "    try:\n",
    "        estado=html.find('h3',{\"class\":\"nfl-c-player-header__roster-status nfl-c-player-header__roster-status--act nfl-u-hide-empty\"}).text\n",
    "    except:\n",
    "        continue\n",
    "    if(estado!=\"active\"):continue\n",
    "    #sacar la data de la pagina usando find\n",
    "    nombre=html.find('h1',{\"class\":\"nfl-c-player-header__title\"}).text\n",
    "    posandnumber=html.find('div',{\"class\":\"nfl-c-player-header__player-data nfl-u-hide-empty\"}).text.split('•')\n",
    "    posicion=posandnumber[0].strip()\n",
    "    numero=posandnumber[1].strip()\n",
    "    equipo=html.find(\"div\",{\"class\":\"nfl-c-player-header__team nfl-u-hide-empty\"})\n",
    "    datosEsp=html.find_all(\"div\",{\"class\":\"nfl-c-player-info__value\"})\n",
    "    altura=datosEsp[0].text.strip()\n",
    "    peso=int(datosEsp[1].text.strip())\n",
    "    brazos=datosEsp[2].text.strip()\n",
    "    manos=datosEsp[3].text.strip()\n",
    "    experiencia=int(datosEsp[4].text.strip())\n",
    "    instituto=datosEsp[5].text.strip()\n",
    "    edad=int(datosEsp[6].text.strip())\n",
    "    ciudad=datosEsp[7].text.strip()\n",
    "    datosJugadores.append([nombre,posicion,numero,altura,peso,brazos,manos,experiencia,instituto,edad,ciudad])\n",
    "dfDatos=pd.DataFrame(datosJugadores,columns=[\"Nombre\",\"Posicion\",\"Numero\",\"Altura\",\"Peso\",\"Brazos\",\"Manos\",\"Experiencia\",\"Instituto\",\"Edad\",\"Ciudad\"])\n",
    "dfDatos"
   ]
  },
  {
   "cell_type": "code",
   "execution_count": null,
   "id": "29635d48",
   "metadata": {},
   "outputs": [],
   "source": []
  }
 ],
 "metadata": {
  "kernelspec": {
   "display_name": "Python 3 (ipykernel)",
   "language": "python",
   "name": "python3"
  },
  "language_info": {
   "codemirror_mode": {
    "name": "ipython",
    "version": 3
   },
   "file_extension": ".py",
   "mimetype": "text/x-python",
   "name": "python",
   "nbconvert_exporter": "python",
   "pygments_lexer": "ipython3",
   "version": "3.9.7"
  }
 },
 "nbformat": 4,
 "nbformat_minor": 5
}
