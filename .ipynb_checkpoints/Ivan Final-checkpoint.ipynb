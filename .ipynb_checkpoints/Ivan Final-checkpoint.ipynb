{
 "cells": [
  {
   "cell_type": "code",
   "execution_count": null,
   "id": "0cc3ba95",
   "metadata": {},
   "outputs": [],
   "source": [
    "from bs4 import BeautifulSoup\n",
    "import re\n",
    "import requests\n",
    "import pandas as pd \n"
   ]
  },
  {
   "cell_type": "code",
   "execution_count": null,
   "id": "8ab2e8d2",
   "metadata": {},
   "outputs": [],
   "source": [
    "#Ingresar a la página principal de la NFL\n",
    "page = requests.get(\"https://www.nfl.com/stats/player-stats/\")\n",
    "#Pasarlo a formato soup\n",
    "soup = BeautifulSoup(page.content, 'html.parser')"
   ]
  },
  {
   "cell_type": "code",
   "execution_count": null,
   "id": "18d66018",
   "metadata": {},
   "outputs": [],
   "source": [
    "#Obtener los enlaces a cada pestaña del navbar\n",
    "pestanhas=[x.a['href'] for x in soup.find(\"ul\",{\"class\":\"d3-o-tabs d3-o-tabs__nowrap\"}).find_all('li')]\n",
    "linksJugadores=[]\n",
    "#Iterar para sacar los datos\n",
    "for pestanha in pestanhas:\n",
    "    statPage=requests.get(\"https://www.nfl.com\"+pestanha)\n",
    "    soup2 = BeautifulSoup(statPage.content, 'html.parser')\n",
    "    table=soup2.find('table')\n",
    "    #Obtener cada fila de la tabla de jugadores\n",
    "    jugadores=table.find_all('tr')\n",
    "    for jugador in jugadores:\n",
    "        if(jugador.find('div',{'class':'d3-o-media-object__body'}) is None):continue\n",
    "        else:\n",
    "            #Agregar el link al perfil del jugador\n",
    "            linksJugadores.append(\"https://www.nfl.com\"+jugador.find('div',{'class':'d3-o-media-object__body'}).a['href'])"
   ]
  }
 ],
 "metadata": {
  "kernelspec": {
   "display_name": "Python 3 (ipykernel)",
   "language": "python",
   "name": "python3"
  },
  "language_info": {
   "codemirror_mode": {
    "name": "ipython",
    "version": 3
   },
   "file_extension": ".py",
   "mimetype": "text/x-python",
   "name": "python",
   "nbconvert_exporter": "python",
   "pygments_lexer": "ipython3",
   "version": "3.9.7"
  }
 },
 "nbformat": 4,
 "nbformat_minor": 5
}
